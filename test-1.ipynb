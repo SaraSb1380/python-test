{
 "cells": [
  {
   "cell_type": "markdown",
   "metadata": {},
   "source": [
    "#### Q1:\n",
    "Given a base-10 integer, n, convert it to binary (base-2). Then find and print the base-10 integer denoting \n",
    "the maximum number of consecutive 1's in n's binary representation.\n",
    "\n"
   ]
  },
  {
   "cell_type": "code",
   "execution_count": 85,
   "metadata": {},
   "outputs": [
    {
     "name": "stdout",
     "output_type": "stream",
     "text": [
      "439\n"
     ]
    },
    {
     "data": {
      "text/plain": [
       "3"
      ]
     },
     "execution_count": 85,
     "metadata": {},
     "output_type": "execute_result"
    }
   ],
   "source": [
    "\n",
    "import math\n",
    "import os\n",
    "import random\n",
    "import re\n",
    "import sys\n",
    "\n",
    "\n",
    "\n",
    "if __name__ == '__main__':\n",
    "    n = int(input())\n",
    "binary=[]\n",
    "while n>=2:\n",
    "    dom=n//2\n",
    "    rem=n%2\n",
    "    n=dom\n",
    "    binary.append(rem)\n",
    "binary.append(dom)\n",
    "\n",
    "n=[]\n",
    "m=1\n",
    "for i in range(len(binary)-1):\n",
    "    if binary[i]==binary[i+1]==1:\n",
    "        \n",
    "        m+=binary[i+1]\n",
    "        \n",
    "        \n",
    "    else:\n",
    "        m=1\n",
    "    n.append(m)\n",
    "max(n)\n",
    "   \n"
   ]
  },
  {
   "cell_type": "markdown",
   "metadata": {},
   "source": [
    "#### Q2\n",
    "inverse array:\n",
    "[1,2,4,5]-->> 5 4 2 1"
   ]
  },
  {
   "cell_type": "code",
   "execution_count": 177,
   "metadata": {},
   "outputs": [
    {
     "name": "stdout",
     "output_type": "stream",
     "text": [
      "5 6 7\n",
      "7 6 5\n"
     ]
    }
   ],
   "source": [
    "#!/bin/python3\n",
    "\n",
    "arr = list(map(int, input().rstrip().split()))\n",
    "arr.reverse()\n",
    "print(*arr)"
   ]
  }
 ],
 "metadata": {
  "kernelspec": {
   "display_name": "Python 3",
   "language": "python",
   "name": "python3"
  },
  "language_info": {
   "codemirror_mode": {
    "name": "ipython",
    "version": 3
   },
   "file_extension": ".py",
   "mimetype": "text/x-python",
   "name": "python",
   "nbconvert_exporter": "python",
   "pygments_lexer": "ipython3",
   "version": "3.7.4"
  }
 },
 "nbformat": 4,
 "nbformat_minor": 2
}
